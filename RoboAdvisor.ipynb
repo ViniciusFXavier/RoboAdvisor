{
  "cells": [
    {
      "cell_type": "markdown",
      "metadata": {
        "id": "view-in-github",
        "colab_type": "text"
      },
      "source": [
        "<a href=\"https://colab.research.google.com/github/ViniciusFXavier/RoboAdvisor/blob/main/RoboAdvisor.ipynb\" target=\"_parent\"><img src=\"https://colab.research.google.com/assets/colab-badge.svg\" alt=\"Open In Colab\"/></a>"
      ]
    },
    {
      "cell_type": "code",
      "execution_count": null,
      "metadata": {
        "id": "nFQLKQ6hfXch"
      },
      "outputs": [],
      "source": [
        "#Instalando o SDK do Google\n",
        "!pip install -q -U google-generativeai\n",
        "#Instalando o SDK do gtts (Google Text-to-Speech)\n",
        "!pip install -q -U gtts"
      ]
    },
    {
      "cell_type": "code",
      "execution_count": null,
      "metadata": {
        "id": "IthzwfnAfcsi"
      },
      "outputs": [],
      "source": [
        "#Configurações iniciais\n",
        "import google.generativeai as genai\n",
        "import textwrap\n",
        "import re\n",
        "\n",
        "from IPython.display import display\n",
        "from IPython.display import Markdown\n",
        "from IPython.display import Audio\n",
        "from IPython.display import clear_output\n",
        "from google.colab import userdata\n",
        "from io import BytesIO\n",
        "from gtts import gTTS"
      ]
    },
    {
      "cell_type": "code",
      "source": [
        "#Define a chave de configuração\n",
        "GOOGLE_API_KEY=userdata.get('GOOGLE_API_KEY')\n",
        "genai.configure(api_key=GOOGLE_API_KEY)"
      ],
      "metadata": {
        "id": "Q1v4c4M1flQc"
      },
      "execution_count": null,
      "outputs": []
    },
    {
      "cell_type": "code",
      "execution_count": null,
      "metadata": {
        "id": "O1ochaeyDn_o"
      },
      "outputs": [],
      "source": [
        "generation_config = {\n",
        "  \"candidate_count\": 1,\n",
        "  \"temperature\": 0.5,\n",
        "}"
      ]
    },
    {
      "cell_type": "code",
      "execution_count": null,
      "metadata": {
        "id": "jwBv7DofDofw"
      },
      "outputs": [],
      "source": [
        "safety_settings={\n",
        "    'HATE': 'BLOCK_NONE',\n",
        "    'HARASSMENT': 'BLOCK_NONE',\n",
        "    'SEXUAL' : 'BLOCK_NONE',\n",
        "    'DANGEROUS' : 'BLOCK_NONE'\n",
        "    }"
      ]
    },
    {
      "cell_type": "code",
      "source": [
        "#Configuração da Persona de assessor de investimentos\n",
        "system_instruction = \"## Persona para Assessor de Investimentos Inteligente\\n\\n**Objetivo:** Auxiliar clientes na tomada de decisões de investimento de forma personalizada, utilizando inteligência artificial para:\\n\\n* **Inicio da conversa:**\\n    * Deixe claro para o cliente que você é um assessor de investimentos, e como você e como você pode ajudá-lo.\\n* **Identificar o perfil de investimento do cliente:**\\n    * **Perguntas iniciais:**\\n        * Qual o seu nível de conhecimento sobre investimentos? (Iniciante, Intermediário, Avançado)\\n        * Qual o seu objetivo principal ao investir? (Renda extra, aposentadoria, compra de um bem, viagem, etc.)\\n        * Você se considera uma pessoa avessa ao risco, moderada ou propensa a assumir riscos?\\n    * **Análise das respostas:**\\n        * Classificar o cliente em um dos perfis de investimento: Conservador, Moderado ou Arrojado.\\n        * Considerar fatores como idade, renda, horizonte de investimento e tolerância ao risco para uma avaliação precisa.\\n* **Compreender as necessidades e objetivos do cliente:**\\n    * **Perguntas complementares:**\\n        * Qual o valor inicial que você pretende investir?\\n        * Você pretende realizar aportes mensais? Se sim, qual o valor?\\n        * Em quanto tempo você pretende resgatar o investimento?\\n        * Existe algum objetivo específico para o uso do dinheiro? (Compra de imóvel, carro, viagem, etc.)\\n    * **Análise aprofundada:**\\n        * Considerar os objetivos de curto, médio e longo prazo do cliente.\\n        * Avaliar as necessidades financeiras presentes e futuras.\\n        * Compreender as expectativas e motivações do cliente em relação aos investimentos.\\n* **Apresentar sugestões de investimentos personalizadas:**\\n    * **Recomendações com base no perfil e objetivos:**\\n        * **Perfil Conservador:**\\n            * Priorizar investimentos de renda fixa com baixo risco, como Tesouro Direto, CDB e LCA.\\n            * Exemplo:\\n                * Investimento inicial: R$ 10.000,00\\n                * Aportes mensais: R$ 1.000,00\\n                * Período da aplicação: 1 ano\\n                * Considerando CDI a 10,40%, IPCA a 3,60% e Selic a 10,40%\\n                * Rendimento:\\n                    * LCI e LCA: R$ 23.362,76\\n                    * CDB: R$ 23.321,47\\n                    * Tesouro Prefixado: R$ 23.286,74\\n        * **Perfil Moderado:**\\n            * Diversificar entre investimentos de renda fixa e renda variável com risco moderado, como fundos multimercados e ações de empresas sólidas.\\n            * Exemplo:\\n                * Investimento inicial: R$ 20.000,00\\n                * Aportes mensais: R$ 2.000,00\\n                * Período da aplicação: 2 anos\\n                * Considerando CDI a 10,40%, Ibovespa a 12% e Selic a 10,40%\\n                * Rendimento estimado:\\n                    * Fundo multimercado: R$ 52.800,00\\n                    * Ações: R$ 56.000,00 (maior risco, maior potencial de retorno)\\n        * **Perfil Arrojado:**\\n            * Investir em ativos de renda variável com alto potencial de retorno, como ações de empresas em crescimento e fundos de investimento em criptomoedas.\\n            * Exemplo:\\n                * Investimento inicial: R$ 30.000,00\\n                * Aportes mensais: R$ 3.000,00\\n                * Período da aplicação: 3 anos\\n                * Considerando Ibovespa a 15% e Selic a 10,40%\\n                * Rendimento estimado:\\n                    * Ações: R$ 81.000,00 (alto risco, alto potencial de retorno)\\n* **Monitorar o desempenho dos investimentos e realizar ajustes:**\\n    * **Acompanhamento constante:**\\n        * Monitorar o desempenho dos investimentos de forma regular.\\n        * Informar o cliente sobre os resultados e eventuais oscilações do mercado.\\n        * Rebalancear a carteira de investimentos conforme necessário.\\n* **Oferecer educação financeira:**\\n    * **Conteúdo informativo:**\\n        * Disponibilizar materiais educativos sobre investimentos, finanças pessoais e mercado financeiro.\\n        * Esclarecer dúvidas e responder perguntas dos clientes de forma clara e objetiva.\\n        * Promover a educação financeira como ferramenta para melhores decisões de investimento.\\n* **Durante a Conversa:**\\n    * Mantenha o tema da conversa dentro do contexto de investimentos, finanças e notícias e historia.\\n\""
      ],
      "metadata": {
        "id": "Uvgti5I2HxvZ"
      },
      "execution_count": null,
      "outputs": []
    },
    {
      "cell_type": "code",
      "execution_count": null,
      "metadata": {
        "id": "NIiSs1R5mVJE"
      },
      "outputs": [],
      "source": [
        "model = genai.GenerativeModel(model_name=\"gemini-1.5-pro-latest\",\n",
        "                              generation_config=generation_config,\n",
        "                              system_instruction=system_instruction,\n",
        "                              safety_settings=safety_settings)"
      ]
    },
    {
      "cell_type": "code",
      "execution_count": null,
      "metadata": {
        "id": "KpaQ6hm5f2_J"
      },
      "outputs": [],
      "source": [
        "chat = model.start_chat(history=[])"
      ]
    },
    {
      "cell_type": "code",
      "execution_count": null,
      "metadata": {
        "id": "dAcbPBocgzeX"
      },
      "outputs": [],
      "source": [
        "#Melhorando a visualização\n",
        "def to_markdown(text):\n",
        "  text = text.replace('•', '  *')\n",
        "  return Markdown(textwrap.indent(text, '> ', predicate=lambda _: True))\n",
        "\n",
        "def remove_emojis(text):\n",
        "    emoji_pattern = re.compile(\"[\"\n",
        "                               u\"\\U0001F600-\\U0001F64F\"  # emoticons\n",
        "                               u\"\\U0001F300-\\U0001F5FF\"  # symbols & pictographs\n",
        "                               u\"\\U0001F680-\\U0001F6FF\"  # transport & map symbols\n",
        "                               u\"\\U0001F1E0-\\U0001F1FF\"  # flags (iOS)\n",
        "                               \"]+\", flags=re.UNICODE | re.MULTILINE)\n",
        "    return emoji_pattern.sub(r'', text)\n",
        "\n",
        "def text_to_audio(text):\n",
        "    # Converter o texto para áudio\n",
        "    tts = gTTS(text=text, lang='pt')\n",
        "\n",
        "    # Salvar o áudio em um arquivo temporário\n",
        "    audio_file = BytesIO()\n",
        "    tts.write_to_fp(audio_file)\n",
        "    audio_file.seek(0)\n",
        "\n",
        "    # Reproduzir o áudio\n",
        "    return audio_file"
      ]
    },
    {
      "cell_type": "code",
      "source": [
        "prompt = input(\"Digite uma mensagem (ou 'fim' para sair): \")\n",
        "\n",
        "while prompt != \"fim\":\n",
        "    response = chat.send_message(prompt)\n",
        "    clear_output(wait=True)\n",
        "\n",
        "    for index, message in enumerate(chat.history):\n",
        "        if message.role == \"user\":\n",
        "            display(to_markdown('**Eu**: ' + message.parts[0].text))\n",
        "        elif message.role == \"model\":\n",
        "            display(to_markdown('**Assessor de Investimentos**: ' + message.parts[0].text))\n",
        "\n",
        "            # Expressão regular para remover emoticons\n",
        "            clean_text = remove_emojis(message.parts[0].text)\n",
        "\n",
        "            # Reproduzir o áudio\n",
        "            audio_file = text_to_audio(clean_text)\n",
        "\n",
        "            # Ativa o autoplay apenas para o último item da lista\n",
        "            autoplay = index == len(chat.history) - 1\n",
        "            display(Audio(audio_file.read(), autoplay=autoplay))\n",
        "\n",
        "    print('-------------------------------------------')\n",
        "\n",
        "    prompt = input('Esperando mensagem: ')"
      ],
      "metadata": {
        "id": "5AVtGz6Yf0S5"
      },
      "execution_count": null,
      "outputs": []
    },
    {
      "cell_type": "markdown",
      "source": [],
      "metadata": {
        "id": "Y_0tWtYsWzkA"
      }
    }
  ],
  "metadata": {
    "colab": {
      "provenance": [],
      "toc_visible": true,
      "include_colab_link": true
    },
    "kernelspec": {
      "display_name": "Python 3",
      "name": "python3"
    },
    "language_info": {
      "name": "python"
    }
  },
  "nbformat": 4,
  "nbformat_minor": 0
}